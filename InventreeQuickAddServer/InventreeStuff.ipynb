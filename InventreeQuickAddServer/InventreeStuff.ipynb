{
 "cells": [
  {
   "cell_type": "raw",
   "id": "6b5f661e-94fc-4d7c-af21-bee360be01d9",
   "metadata": {},
   "source": [
    "from inventree.api import InvenTreeAPI\n",
    "from inventree.part import PartCategory\n",
    "from inventree.part import Part\n",
    "from inventree.stock import StockItem\n",
    "from inventree.stock import StockLocation\n",
    "\n",
    "# Load config\n",
    "import yaml\n",
    "\n",
    "with open(\"config.yml\", \"r\") as file:\n",
    "    config = yaml.safe_load(file)\n",
    "    \n",
    "api = InvenTreeAPI(\n",
    "    host=config[\"inventree\"][\"server\"],\n",
    "    username=config[\"inventree\"][\"username\"],\n",
    "    password=config[\"inventree\"][\"password\"])\n"
   ]
  },
  {
   "cell_type": "code",
   "execution_count": 11,
   "id": "c4681049-6cdd-45b2-be7e-45a3e0a80cfa",
   "metadata": {},
   "outputs": [
    {
     "ename": "KeyError",
     "evalue": "'Elektronik-Komponenten'",
     "output_type": "error",
     "traceback": [
      "\u001b[0;31m---------------------------------------------------------------------------\u001b[0m",
      "\u001b[0;31mKeyError\u001b[0m                                  Traceback (most recent call last)",
      "Input \u001b[0;32mIn [11]\u001b[0m, in \u001b[0;36m<cell line: 20>\u001b[0;34m()\u001b[0m\n\u001b[1;32m     14\u001b[0m \u001b[38;5;66;03m# Dict of part categories by hierarchical path\u001b[39;00m\n\u001b[1;32m     15\u001b[0m \u001b[38;5;66;03m# (e.g. 'Electronics-Components/ICs/OpAmps')\u001b[39;00m\n\u001b[1;32m     16\u001b[0m part_categories_by_pathstring \u001b[38;5;241m=\u001b[39m {\n\u001b[1;32m     17\u001b[0m     category\u001b[38;5;241m.\u001b[39mpathstring: category\n\u001b[1;32m     18\u001b[0m     \u001b[38;5;28;01mfor\u001b[39;00m category \u001b[38;5;129;01min\u001b[39;00m all_categories\n\u001b[1;32m     19\u001b[0m }\n\u001b[0;32m---> 20\u001b[0m electronics_components \u001b[38;5;241m=\u001b[39m \u001b[43mpart_categories_by_name\u001b[49m\u001b[43m[\u001b[49m\u001b[38;5;124;43m'\u001b[39;49m\u001b[38;5;124;43mElektronik-Komponenten\u001b[39;49m\u001b[38;5;124;43m'\u001b[39;49m\u001b[43m]\u001b[49m\n",
      "\u001b[0;31mKeyError\u001b[0m: 'Elektronik-Komponenten'"
     ]
    }
   ],
   "source": [
    "all_locations = StockLocation.list(api)\n",
    "\n",
    "# Dict of part categories by name\n",
    "# (e.g. 'OpAmps')\n",
    "stock_categories_by_name = {\n",
    "    category[\"name\"]: category\n",
    "    for category in all_categories\n",
    "}\n",
    "# Dict of part categories by public key (e.g. 7)\n",
    "part_categories_by_pk = {\n",
    "    category.pk: category\n",
    "    for category in all_categories\n",
    "}\n",
    "# Dict of part categories by hierarchical path\n",
    "# (e.g. 'Electronics-Components/ICs/OpAmps')\n",
    "stock_categories_by_pathstring = {\n",
    "    category.pathstring: category\n",
    "    for category in all_categories\n",
    "}\n",
    "electronics_components = part_categories_by_name['Elektronik-Komponenten']"
   ]
  },
  {
   "cell_type": "code",
   "execution_count": 57,
   "id": "416fbfe5-8a5a-4b26-b831-237e7ff17ea0",
   "metadata": {},
   "outputs": [],
   "source": [
    "all_categories = PartCategory.list(api)\n",
    "\n",
    "# Dict of part categories by name\n",
    "# (e.g. 'OpAmps')\n",
    "part_categories_by_name = {\n",
    "    category[\"name\"]: category\n",
    "    for category in all_categories\n",
    "}\n",
    "# Dict of part categories by public key (e.g. 7)\n",
    "part_categories_by_pk = {\n",
    "    category.pk: category\n",
    "    for category in all_categories\n",
    "}\n",
    "# Dict of part categories by hierarchical path\n",
    "# (e.g. 'Electronics-Components/ICs/OpAmps')\n",
    "part_categories_by_pathstring = {\n",
    "    category.pathstring: category\n",
    "    for category in all_categories\n",
    "}\n",
    "electronics_components = part_categories_by_name['Elektronik-Komponenten']"
   ]
  },
  {
   "cell_type": "code",
   "execution_count": 52,
   "id": "752575ec-3ba0-4639-a50b-90a52d58f113",
   "metadata": {},
   "outputs": [],
   "source": []
  },
  {
   "cell_type": "code",
   "execution_count": 45,
   "id": "3d6e0dd1-67e7-4f90-a892-271e1c68ec31",
   "metadata": {},
   "outputs": [],
   "source": [
    "new_part = Part.create(api, {\n",
    "    'name': 'L78L33ABD',\n",
    "    'description': '100mA 3.3V fixed LDO regulator, SOIC-8',\n",
    "    'category': electronics_components.pk\n",
    "})\n",
    "\n",
    "parts = Part.list(api)"
   ]
  },
  {
   "cell_type": "code",
   "execution_count": 60,
   "id": "357811ed-03c9-484d-b0a0-c8d24ebb14ec",
   "metadata": {},
   "outputs": [
    {
     "data": {
      "text/plain": [
       "dict_keys(['Elektronik-Komponenten', 'Elektronik-Komponenten/ICs', 'Elektronik-Komponenten/ICs/OpAmps'])"
      ]
     },
     "execution_count": 60,
     "metadata": {},
     "output_type": "execute_result"
    }
   ],
   "source": [
    "part_categories_by_pathstring.keys()"
   ]
  },
  {
   "cell_type": "code",
   "execution_count": 58,
   "id": "dfa6541a-8c5e-42c5-80e4-4734f82455f3",
   "metadata": {},
   "outputs": [
    {
     "data": {
      "text/plain": [
       "{'Elektronik-Komponenten': <inventree.part.PartCategory at 0x7fd727bd3040>,\n",
       " 'Elektronik-Komponenten/ICs': <inventree.part.PartCategory at 0x7fd727bd1db0>,\n",
       " 'Elektronik-Komponenten/ICs/OpAmps': <inventree.part.PartCategory at 0x7fd727bd1060>}"
      ]
     },
     "execution_count": 58,
     "metadata": {},
     "output_type": "execute_result"
    }
   ],
   "source": [
    "part_categories_by_pathstring"
   ]
  },
  {
   "cell_type": "code",
   "execution_count": 18,
   "id": "035f93fd-c681-4e4b-a6a6-c67980cf5fa3",
   "metadata": {},
   "outputs": [],
   "source": [
    "import digikey\n",
    "import os\n",
    "from digikey.v3.productinformation import KeywordSearchRequest\n",
    "\n",
    "os.makedirs(config[\"digikey\"][\"storage_path\"], exist_ok=True)\n",
    "\n",
    "# Set config for DigiKey client\n",
    "os.environ['DIGIKEY_CLIENT_ID'] = config[\"digikey\"][\"client_id\"]\n",
    "os.environ['DIGIKEY_CLIENT_SECRET'] = config[\"digikey\"][\"client_secret\"]\n",
    "os.environ['DIGIKEY_CLIENT_SANDBOX'] = str(config[\"digikey\"][\"client_sandbox\"])\n",
    "os.environ['DIGIKEY_STORAGE_PATH'] = config[\"digikey\"][\"storage_path\"]\n",
    "\n",
    "search_request = KeywordSearchRequest(keywords='LTC6992CS6-1#TRMPBF', record_count=10)\n",
    "result = digikey.keyword_search(body=search_request)"
   ]
  },
  {
   "cell_type": "code",
   "execution_count": 21,
   "id": "c5118254-0988-48c5-9487-8b4ae333b086",
   "metadata": {},
   "outputs": [
    {
     "data": {
      "text/plain": [
       "{'alternate_packaging': [{'digi_key_part_number': '505-LTC6992CS6-1#TRMPBFCT-ND',\n",
       "                          'dk_plus_restriction': False,\n",
       "                          'manufacturer': {'parameter': 'Manufacturer',\n",
       "                                           'parameter_id': -1,\n",
       "                                           'value': 'Analog Devices Inc.',\n",
       "                                           'value_id': '505'},\n",
       "                          'manufacturer_part_number': 'LTC6992CS6-1#TRMPBF',\n",
       "                          'manufacturer_public_quantity': 0,\n",
       "                          'marketplace': False,\n",
       "                          'minimum_order_quantity': 1,\n",
       "                          'non_stock': False,\n",
       "                          'packaging': {'parameter': 'Packaging',\n",
       "                                        'parameter_id': 7,\n",
       "                                        'value': 'Cut Tape (CT)',\n",
       "                                        'value_id': '2'},\n",
       "                          'product_description': 'IC OSC SILICON PROG TSOT23-6',\n",
       "                          'quantity_available': 0,\n",
       "                          'quantity_on_order': 0,\n",
       "                          'supplier_direct_ship': False,\n",
       "                          'unit_price': 5.53},\n",
       "                         {'digi_key_part_number': '505-LTC6992CS6-1#TRMPBFDKR-ND',\n",
       "                          'dk_plus_restriction': False,\n",
       "                          'manufacturer': {'parameter': 'Manufacturer',\n",
       "                                           'parameter_id': -1,\n",
       "                                           'value': 'Analog Devices Inc.',\n",
       "                                           'value_id': '505'},\n",
       "                          'manufacturer_part_number': 'LTC6992CS6-1#TRMPBF',\n",
       "                          'manufacturer_public_quantity': 0,\n",
       "                          'marketplace': False,\n",
       "                          'minimum_order_quantity': 1,\n",
       "                          'non_stock': False,\n",
       "                          'packaging': {'parameter': 'Packaging',\n",
       "                                        'parameter_id': 7,\n",
       "                                        'value': 'Digi-Reel®',\n",
       "                                        'value_id': '243'},\n",
       "                          'product_description': 'IC OSC SILICON PROG TSOT23-6',\n",
       "                          'quantity_available': 0,\n",
       "                          'quantity_on_order': 0,\n",
       "                          'supplier_direct_ship': False,\n",
       "                          'unit_price': 5.53}],\n",
       " 'category': {'parameter': 'Category',\n",
       "              'parameter_id': -3,\n",
       "              'value': 'Integrated Circuits (ICs)',\n",
       "              'value_id': '32'},\n",
       " 'date_last_buy_chance': None,\n",
       " 'detailed_description': 'Oscillator, Silicon IC 3.81Hz ~ 1MHz TSOT-23-6',\n",
       " 'digi_key_part_number': '505-LTC6992CS6-1#TRMPBFTR-ND',\n",
       " 'dk_plus_restriction': False,\n",
       " 'export_control_class_number': 'EAR99',\n",
       " 'family': {'parameter': 'Family',\n",
       "            'parameter_id': -2,\n",
       "            'value': 'Clock/Timing - Programmable Timers and Oscillators',\n",
       "            'value_id': '689'},\n",
       " 'htsus_code': '8542.39.0001',\n",
       " 'lead_status': 'Lead Status unavailable',\n",
       " 'manufacturer': {'parameter': 'Manufacturer',\n",
       "                  'parameter_id': -1,\n",
       "                  'value': 'Analog Devices Inc.',\n",
       "                  'value_id': '505'},\n",
       " 'manufacturer_lead_weeks': '52 week(s)',\n",
       " 'manufacturer_page_url': 'https://www.digikey.com/en/supplier-centers/analog-devices',\n",
       " 'manufacturer_part_number': 'LTC6992CS6-1#TRMPBF',\n",
       " 'manufacturer_public_quantity': 0,\n",
       " 'marketplace': False,\n",
       " 'minimum_order_quantity': 500,\n",
       " 'moisture_sensitivity_level': '1  (Unlimited)',\n",
       " 'non_stock': False,\n",
       " 'packaging': {'parameter': 'Packaging',\n",
       "               'parameter_id': 7,\n",
       "               'value': 'Tape & Reel (TR)',\n",
       "               'value_id': '1'},\n",
       " 'parameters': [{'parameter': 'Packaging',\n",
       "                 'parameter_id': 7,\n",
       "                 'value': 'Tape & Reel (TR)',\n",
       "                 'value_id': '1'},\n",
       "                {'parameter': 'Package / Case',\n",
       "                 'parameter_id': 16,\n",
       "                 'value': 'SOT-23-6 Thin, TSOT-23-6',\n",
       "                 'value_id': '405435'},\n",
       "                {'parameter': 'Mounting Type',\n",
       "                 'parameter_id': 69,\n",
       "                 'value': 'Surface Mount',\n",
       "                 'value_id': '409393'},\n",
       "                {'parameter': 'Frequency',\n",
       "                 'parameter_id': 139,\n",
       "                 'value': '3.81Hz ~ 1MHz',\n",
       "                 'value_id': '178619'},\n",
       "                {'parameter': 'Type',\n",
       "                 'parameter_id': 183,\n",
       "                 'value': 'Oscillator, Silicon',\n",
       "                 'value_id': '382450'},\n",
       "                {'parameter': 'Operating Temperature',\n",
       "                 'parameter_id': 252,\n",
       "                 'value': '0°C ~ 70°C',\n",
       "                 'value_id': '38976'},\n",
       "                {'parameter': 'Voltage - Supply',\n",
       "                 'parameter_id': 276,\n",
       "                 'value': '2.25V ~ 5.5V',\n",
       "                 'value_id': '126265'},\n",
       "                {'parameter': 'Count',\n",
       "                 'parameter_id': 435,\n",
       "                 'value': '-',\n",
       "                 'value_id': '1'},\n",
       "                {'parameter': 'Supplier Device Package',\n",
       "                 'parameter_id': 1291,\n",
       "                 'value': 'TSOT-23-6',\n",
       "                 'value_id': '416359'},\n",
       "                {'parameter': 'Part Status',\n",
       "                 'parameter_id': 1989,\n",
       "                 'value': 'Active',\n",
       "                 'value_id': '0'},\n",
       "                {'parameter': 'Current - Supply',\n",
       "                 'parameter_id': 2095,\n",
       "                 'value': '365 µA',\n",
       "                 'value_id': '365 µA'}],\n",
       " 'primary_datasheet': 'https://www.analog.com/media/en/technical-documentation/data-sheets/LTC6992-1-6992-2-6992-3-6992-4.pdf',\n",
       " 'primary_photo': 'https://media.digikey.com/Renders/Analog%20Devices%20Renders/505~05-08-1636~S,-S6~6.jpg',\n",
       " 'primary_video': '',\n",
       " 'product_description': 'IC OSC SILICON PROG TSOT23-6',\n",
       " 'product_status': 'Active',\n",
       " 'product_url': 'https://www.digikey.com/en/products/detail/analog-devices-inc/LTC6992CS6-1-TRMPBF/2356003',\n",
       " 'quantity_available': 0,\n",
       " 'quantity_on_order': 0,\n",
       " 'reach_status': 'Reach unaffected',\n",
       " 'ro_hs_status': 'ROHS3 Compliant',\n",
       " 'series': {'parameter': 'Series',\n",
       "            'parameter_id': -5,\n",
       "            'value': 'TimerBlox®',\n",
       "            'value_id': '30481'},\n",
       " 'standard_pricing': [{'break_quantity': 500,\n",
       "                       'total_price': 1733.21,\n",
       "                       'unit_price': 3.46642},\n",
       "                      {'break_quantity': 1000,\n",
       "                       'total_price': 2955.0,\n",
       "                       'unit_price': 2.955}],\n",
       " 'supplier_direct_ship': False,\n",
       " 'tariff_description': '',\n",
       " 'unit_price': 3.46642}"
      ]
     },
     "execution_count": 21,
     "metadata": {},
     "output_type": "execute_result"
    }
   ],
   "source": [
    "result.exact_manufacturer_products[0]"
   ]
  },
  {
   "cell_type": "code",
   "execution_count": 3,
   "id": "1c186822-52a5-4b46-8c41-8d3b9e31627c",
   "metadata": {},
   "outputs": [],
   "source": [
    "import requests\n",
    "response = requests.get(\"https://developer.digikey.com/themes/custom/digikey_basic/images/optimized/logo_dk.png\")"
   ]
  },
  {
   "cell_type": "code",
   "execution_count": 7,
   "id": "e426ba86-5871-4e16-b864-8a0b5bae8261",
   "metadata": {},
   "outputs": [
    {
     "data": {
      "text/plain": [
       "<urllib3.response.HTTPResponse at 0x7fc5b8516860>"
      ]
     },
     "execution_count": 7,
     "metadata": {},
     "output_type": "execute_result"
    }
   ],
   "source": [
    "response.raw"
   ]
  },
  {
   "cell_type": "code",
   "execution_count": null,
   "id": "4fc20a7c-aae9-44be-b789-7024d5c645e3",
   "metadata": {},
   "outputs": [],
   "source": []
  }
 ],
 "metadata": {
  "kernelspec": {
   "display_name": "Python 3 (ipykernel)",
   "language": "python",
   "name": "python3"
  },
  "language_info": {
   "codemirror_mode": {
    "name": "ipython",
    "version": 3
   },
   "file_extension": ".py",
   "mimetype": "text/x-python",
   "name": "python",
   "nbconvert_exporter": "python",
   "pygments_lexer": "ipython3",
   "version": "3.10.6"
  },
  "vscode": {
   "interpreter": {
    "hash": "e7370f93d1d0cde622a1f8e1c04877d8463912d04d973331ad4851f04de6915a"
   }
  }
 },
 "nbformat": 4,
 "nbformat_minor": 5
}
